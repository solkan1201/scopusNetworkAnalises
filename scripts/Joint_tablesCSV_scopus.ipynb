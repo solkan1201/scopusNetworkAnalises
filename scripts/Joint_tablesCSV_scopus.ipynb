{
 "cells": [
  {
   "cell_type": "code",
   "execution_count": 2,
   "metadata": {},
   "outputs": [],
   "source": [
    "import numpy as np\n",
    "import matplotlib.pyplot as plt \n",
    "import pandas as pd\n",
    "import glob\n",
    "import sys\n",
    "import os"
   ]
  },
  {
   "cell_type": "code",
   "execution_count": 19,
   "metadata": {},
   "outputs": [
    {
     "data": {
      "text/plain": [
       "'/home/superusuario/Dados/DMMDC/bases/DL'"
      ]
     },
     "execution_count": 19,
     "metadata": {},
     "output_type": "execute_result"
    }
   ],
   "source": [
    "INPUT = os.getcwd()\n",
    "# INPUT = os.path.join(INPUT, \"DL_remoteSensing\")\n",
    "INPUT = os.path.join(INPUT, \"DL\")\n",
    "INPUT"
   ]
  },
  {
   "cell_type": "code",
   "execution_count": 20,
   "metadata": {},
   "outputs": [],
   "source": [
    "listNotreading = ['scopusAutorePart_1.csv', 'scopusAutorePart_2.csv']"
   ]
  },
  {
   "cell_type": "code",
   "execution_count": 21,
   "metadata": {},
   "outputs": [
    {
     "name": "stdout",
     "output_type": "stream",
     "text": [
      "(1840, 5)\n",
      "(2000, 5)\n",
      "(2000, 5)\n",
      "(2000, 5)\n",
      "(840, 5)\n",
      "(1315, 5)\n",
      "(2000, 5)\n",
      "(2000, 5)\n",
      "(2000, 5)\n",
      "(2000, 5)\n",
      "(2000, 5)\n",
      "(1393, 5)\n",
      "(2000, 5)\n",
      "temos (23388, 5) filas \n"
     ]
    }
   ],
   "source": [
    "df_tables = []\n",
    "\n",
    "allfiles = glob.glob(os.path.join(INPUT, \"*.csv\"))\n",
    "\n",
    "for ff in allfiles:\n",
    "    name = ff.split('/')\n",
    "    \n",
    "    if name[-1] not in listNotreading:\n",
    "        dftemp = pd.read_csv(ff)\n",
    "        print(dftemp.shape)\n",
    "        df_tables.append(dftemp)\n",
    "\n",
    "concat_df   = pd.concat(df_tables, axis=0, ignore_index=True)\n",
    "print(\"temos {} filas \".format(concat_df.shape))"
   ]
  },
  {
   "cell_type": "code",
   "execution_count": 14,
   "metadata": {},
   "outputs": [
    {
     "data": {
      "text/html": [
       "<div>\n",
       "<style scoped>\n",
       "    .dataframe tbody tr th:only-of-type {\n",
       "        vertical-align: middle;\n",
       "    }\n",
       "\n",
       "    .dataframe tbody tr th {\n",
       "        vertical-align: top;\n",
       "    }\n",
       "\n",
       "    .dataframe thead th {\n",
       "        text-align: right;\n",
       "    }\n",
       "</style>\n",
       "<table border=\"1\" class=\"dataframe\">\n",
       "  <thead>\n",
       "    <tr style=\"text-align: right;\">\n",
       "      <th></th>\n",
       "      <th>Title</th>\n",
       "      <th>Link</th>\n",
       "      <th>Abstract</th>\n",
       "      <th>Author Keywords</th>\n",
       "      <th>Index Keywords</th>\n",
       "    </tr>\n",
       "  </thead>\n",
       "  <tbody>\n",
       "    <tr>\n",
       "      <th>0</th>\n",
       "      <td>Deep learning</td>\n",
       "      <td>https://www.scopus.com/inward/record.uri?eid=2...</td>\n",
       "      <td>[No abstract available]</td>\n",
       "      <td>NaN</td>\n",
       "      <td>NaN</td>\n",
       "    </tr>\n",
       "    <tr>\n",
       "      <th>1</th>\n",
       "      <td>Hyperspectral image classification via context...</td>\n",
       "      <td>https://www.scopus.com/inward/record.uri?eid=2...</td>\n",
       "      <td>Because the reliability of feature for every p...</td>\n",
       "      <td>Contextual deep learning; Hyperspectral image ...</td>\n",
       "      <td>Algorithms; Classification (of information); D...</td>\n",
       "    </tr>\n",
       "    <tr>\n",
       "      <th>2</th>\n",
       "      <td>Reverberant speech recognition combining deep ...</td>\n",
       "      <td>https://www.scopus.com/inward/record.uri?eid=2...</td>\n",
       "      <td>We propose an approach to reverberant speech r...</td>\n",
       "      <td>Deep Autoencoder (DAE); Deep Neural Networks (...</td>\n",
       "      <td>C (programming language); Learning systems; Ma...</td>\n",
       "    </tr>\n",
       "    <tr>\n",
       "      <th>3</th>\n",
       "      <td>Regularized deep learning for face recognition...</td>\n",
       "      <td>https://www.scopus.com/inward/record.uri?eid=2...</td>\n",
       "      <td>Body weight variations are an integral part of...</td>\n",
       "      <td>Biometrics; Body-weight variations; Face recog...</td>\n",
       "      <td>Anthropometry; Architecture; Biometrics; Aging...</td>\n",
       "    </tr>\n",
       "    <tr>\n",
       "      <th>4</th>\n",
       "      <td>Exploiting spectro-temporal locality in deep l...</td>\n",
       "      <td>https://www.scopus.com/inward/record.uri?eid=2...</td>\n",
       "      <td>In recent years, deep learning has not only pe...</td>\n",
       "      <td>Acoustic event detection; Convolution neural n...</td>\n",
       "      <td>Acoustic fields; Computer vision; Convolution;...</td>\n",
       "    </tr>\n",
       "  </tbody>\n",
       "</table>\n",
       "</div>"
      ],
      "text/plain": [
       "                                               Title  \\\n",
       "0                                      Deep learning   \n",
       "1  Hyperspectral image classification via context...   \n",
       "2  Reverberant speech recognition combining deep ...   \n",
       "3  Regularized deep learning for face recognition...   \n",
       "4  Exploiting spectro-temporal locality in deep l...   \n",
       "\n",
       "                                                Link  \\\n",
       "0  https://www.scopus.com/inward/record.uri?eid=2...   \n",
       "1  https://www.scopus.com/inward/record.uri?eid=2...   \n",
       "2  https://www.scopus.com/inward/record.uri?eid=2...   \n",
       "3  https://www.scopus.com/inward/record.uri?eid=2...   \n",
       "4  https://www.scopus.com/inward/record.uri?eid=2...   \n",
       "\n",
       "                                            Abstract  \\\n",
       "0                            [No abstract available]   \n",
       "1  Because the reliability of feature for every p...   \n",
       "2  We propose an approach to reverberant speech r...   \n",
       "3  Body weight variations are an integral part of...   \n",
       "4  In recent years, deep learning has not only pe...   \n",
       "\n",
       "                                     Author Keywords  \\\n",
       "0                                                NaN   \n",
       "1  Contextual deep learning; Hyperspectral image ...   \n",
       "2  Deep Autoencoder (DAE); Deep Neural Networks (...   \n",
       "3  Biometrics; Body-weight variations; Face recog...   \n",
       "4  Acoustic event detection; Convolution neural n...   \n",
       "\n",
       "                                      Index Keywords  \n",
       "0                                                NaN  \n",
       "1  Algorithms; Classification (of information); D...  \n",
       "2  C (programming language); Learning systems; Ma...  \n",
       "3  Anthropometry; Architecture; Biometrics; Aging...  \n",
       "4  Acoustic fields; Computer vision; Convolution;...  "
      ]
     },
     "execution_count": 14,
     "metadata": {},
     "output_type": "execute_result"
    }
   ],
   "source": [
    "concat_df.head()"
   ]
  },
  {
   "cell_type": "code",
   "execution_count": 15,
   "metadata": {},
   "outputs": [
    {
     "name": "stdout",
     "output_type": "stream",
     "text": [
      "salvando em: \n",
      "  ==> /home/superusuario/Dados/DMMDC/bases/tables/scopusTitlesAbsAllDL.csv\n"
     ]
    }
   ],
   "source": [
    "INPUT = os.getcwd()\n",
    "# path = os.path.join(INPUT, \"tables/scopusTitlesAbsDL_RS.csv\")\n",
    "path = os.path.join(INPUT, \"tables/scopusTitlesAbsAllDL.csv\")\n",
    "print(\"salvando em: \\n  ==> \" + path)\n",
    "concat_df.to_csv(path)"
   ]
  },
  {
   "cell_type": "code",
   "execution_count": null,
   "metadata": {},
   "outputs": [],
   "source": []
  }
 ],
 "metadata": {
  "kernelspec": {
   "display_name": "Python 3",
   "language": "python",
   "name": "python3"
  },
  "language_info": {
   "codemirror_mode": {
    "name": "ipython",
    "version": 3
   },
   "file_extension": ".py",
   "mimetype": "text/x-python",
   "name": "python",
   "nbconvert_exporter": "python",
   "pygments_lexer": "ipython3",
   "version": "3.8.5"
  }
 },
 "nbformat": 4,
 "nbformat_minor": 4
}
